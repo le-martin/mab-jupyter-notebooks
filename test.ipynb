{
 "cells": [
  {
   "cell_type": "markdown",
   "metadata": {
    "pycharm": {
     "name": "#%% md\n"
    }
   },
   "source": [
    "This cell is a demo of reading public data added to the Binder image and its visualization with `matplotlib`."
   ]
  },
  {
   "cell_type": "code",
   "execution_count": null,
   "metadata": {},
   "outputs": [],
   "source": [
    "%matplotlib inline\n",
    "\n",
    "import pandas as pd\n",
    "\n",
    "data = pd.read_csv(\"gapminder.csv\", index_col=\"country\")\n",
    "\n",
    "years = data.columns.str.strip(\"gdpPercap_\")  # Extract year from last 4 characters of each column name\n",
    "data.columns = years.astype(int)              # Convert year values to integers, saving results back to dataframe\n",
    "\n",
    "data.loc[\"Australia\"].plot();"
   ]
  },
  {
   "cell_type": "markdown",
   "metadata": {
    "pycharm": {
     "name": "#%% md\n"
    }
   },
   "source": [
    "This is an example of using interactive sliders in Jupyter Notebooks.\n",
    "Use the slider to change the slope of the line of the function:\n",
    "$$f(x)=m*x$$"
   ]
  },
  {
   "cell_type": "code",
   "execution_count": null,
   "metadata": {
    "pycharm": {
     "name": "#%%\n"
    }
   },
   "outputs": [],
   "source": [
    "from ipywidgets import interact\n",
    "import matplotlib.pyplot as plt\n",
    "import numpy as np\n",
    "\n",
    "%matplotlib inline\n",
    "\n",
    "def update(m=1):\n",
    "    x = np.linspace(0, 10)\n",
    "    plt.plot(x, m * x)\n",
    "    plt.xlim([0, 5])\n",
    "    plt.ylim([-5, 5])\n",
    "    plt.xlabel(\"x\")\n",
    "    plt.ylabel(\"y\")\n",
    "    plt.show()\n",
    "\n",
    "interact(update);"
   ]
  }
 ],
 "metadata": {
  "kernelspec": {
   "display_name": "Python 3 (ipykernel)",
   "language": "python",
   "name": "python3"
  },
  "language_info": {
   "codemirror_mode": {
    "name": "ipython",
    "version": 3
   },
   "file_extension": ".py",
   "mimetype": "text/x-python",
   "name": "python",
   "nbconvert_exporter": "python",
   "pygments_lexer": "ipython3",
   "version": "3.10.2"
  }
 },
 "nbformat": 4,
 "nbformat_minor": 1
}
